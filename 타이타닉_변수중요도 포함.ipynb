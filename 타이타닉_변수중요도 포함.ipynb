{
 "cells": [
  {
   "cell_type": "markdown",
   "id": "7b04eeca",
   "metadata": {},
   "source": [
    "# Titanic 승객 데이터로 의사결정나무 만들기 \n",
    "\n",
    "\n",
    "## 1. 데이터셋 로딩 \n",
    "- 데이터셋은 캐글 사이트에서 다운로드 가능 https://www.kaggle.com/c/titanic/data\n",
    "- train.csv 파일을 titanic.csv 파일로 변환해서 사용 \n",
    "- 현재 폴더에 data라는 하위 폴더를 만든 뒤 titanic.csv를 저장 "
   ]
  },
  {
   "cell_type": "code",
   "execution_count": 3,
   "id": "0490de26",
   "metadata": {},
   "outputs": [],
   "source": [
    "#패키지 불러오기 \n",
    "import pandas as pd\n",
    "import numpy as np \n",
    "from sklearn import model_selection \n",
    "from sklearn import metrics\n",
    "import matplotlib.pyplot as plt\n",
    "from sklearn import datasets \n",
    "from sklearn.tree import DecisionTreeClassifier \n",
    "\n",
    "from sklearn.datasets import load_iris\n",
    "from sklearn.datasets import load_breast_cancer\n",
    "from sklearn.ensemble import RandomForestClassifier\n",
    "from sklearn.model_selection import train_test_split\n",
    "from sklearn import tree"
   ]
  },
  {
   "cell_type": "code",
   "execution_count": 4,
   "id": "6dc345cc",
   "metadata": {
    "scrolled": true
   },
   "outputs": [
    {
     "name": "stdout",
     "output_type": "stream",
     "text": [
      "(891, 11)\n"
     ]
    },
    {
     "data": {
      "text/html": [
       "<div>\n",
       "<style scoped>\n",
       "    .dataframe tbody tr th:only-of-type {\n",
       "        vertical-align: middle;\n",
       "    }\n",
       "\n",
       "    .dataframe tbody tr th {\n",
       "        vertical-align: top;\n",
       "    }\n",
       "\n",
       "    .dataframe thead th {\n",
       "        text-align: right;\n",
       "    }\n",
       "</style>\n",
       "<table border=\"1\" class=\"dataframe\">\n",
       "  <thead>\n",
       "    <tr style=\"text-align: right;\">\n",
       "      <th></th>\n",
       "      <th>Survived</th>\n",
       "      <th>Pclass</th>\n",
       "      <th>Name</th>\n",
       "      <th>Sex</th>\n",
       "      <th>Age</th>\n",
       "      <th>SibSp</th>\n",
       "      <th>Parch</th>\n",
       "      <th>Ticket</th>\n",
       "      <th>Fare</th>\n",
       "      <th>Cabin</th>\n",
       "      <th>Embarked</th>\n",
       "    </tr>\n",
       "    <tr>\n",
       "      <th>PassengerId</th>\n",
       "      <th></th>\n",
       "      <th></th>\n",
       "      <th></th>\n",
       "      <th></th>\n",
       "      <th></th>\n",
       "      <th></th>\n",
       "      <th></th>\n",
       "      <th></th>\n",
       "      <th></th>\n",
       "      <th></th>\n",
       "      <th></th>\n",
       "    </tr>\n",
       "  </thead>\n",
       "  <tbody>\n",
       "    <tr>\n",
       "      <th>1</th>\n",
       "      <td>0</td>\n",
       "      <td>3</td>\n",
       "      <td>Braund, Mr. Owen Harris</td>\n",
       "      <td>male</td>\n",
       "      <td>22.0</td>\n",
       "      <td>1</td>\n",
       "      <td>0</td>\n",
       "      <td>A/5 21171</td>\n",
       "      <td>7.2500</td>\n",
       "      <td>NaN</td>\n",
       "      <td>S</td>\n",
       "    </tr>\n",
       "    <tr>\n",
       "      <th>2</th>\n",
       "      <td>1</td>\n",
       "      <td>1</td>\n",
       "      <td>Cumings, Mrs. John Bradley (Florence Briggs Th...</td>\n",
       "      <td>female</td>\n",
       "      <td>38.0</td>\n",
       "      <td>1</td>\n",
       "      <td>0</td>\n",
       "      <td>PC 17599</td>\n",
       "      <td>71.2833</td>\n",
       "      <td>C85</td>\n",
       "      <td>C</td>\n",
       "    </tr>\n",
       "    <tr>\n",
       "      <th>3</th>\n",
       "      <td>1</td>\n",
       "      <td>3</td>\n",
       "      <td>Heikkinen, Miss. Laina</td>\n",
       "      <td>female</td>\n",
       "      <td>26.0</td>\n",
       "      <td>0</td>\n",
       "      <td>0</td>\n",
       "      <td>STON/O2. 3101282</td>\n",
       "      <td>7.9250</td>\n",
       "      <td>NaN</td>\n",
       "      <td>S</td>\n",
       "    </tr>\n",
       "    <tr>\n",
       "      <th>4</th>\n",
       "      <td>1</td>\n",
       "      <td>1</td>\n",
       "      <td>Futrelle, Mrs. Jacques Heath (Lily May Peel)</td>\n",
       "      <td>female</td>\n",
       "      <td>35.0</td>\n",
       "      <td>1</td>\n",
       "      <td>0</td>\n",
       "      <td>113803</td>\n",
       "      <td>53.1000</td>\n",
       "      <td>C123</td>\n",
       "      <td>S</td>\n",
       "    </tr>\n",
       "    <tr>\n",
       "      <th>5</th>\n",
       "      <td>0</td>\n",
       "      <td>3</td>\n",
       "      <td>Allen, Mr. William Henry</td>\n",
       "      <td>male</td>\n",
       "      <td>35.0</td>\n",
       "      <td>0</td>\n",
       "      <td>0</td>\n",
       "      <td>373450</td>\n",
       "      <td>8.0500</td>\n",
       "      <td>NaN</td>\n",
       "      <td>S</td>\n",
       "    </tr>\n",
       "  </tbody>\n",
       "</table>\n",
       "</div>"
      ],
      "text/plain": [
       "             Survived  Pclass  \\\n",
       "PassengerId                     \n",
       "1                   0       3   \n",
       "2                   1       1   \n",
       "3                   1       3   \n",
       "4                   1       1   \n",
       "5                   0       3   \n",
       "\n",
       "                                                          Name     Sex   Age  \\\n",
       "PassengerId                                                                    \n",
       "1                                      Braund, Mr. Owen Harris    male  22.0   \n",
       "2            Cumings, Mrs. John Bradley (Florence Briggs Th...  female  38.0   \n",
       "3                                       Heikkinen, Miss. Laina  female  26.0   \n",
       "4                 Futrelle, Mrs. Jacques Heath (Lily May Peel)  female  35.0   \n",
       "5                                     Allen, Mr. William Henry    male  35.0   \n",
       "\n",
       "             SibSp  Parch            Ticket     Fare Cabin Embarked  \n",
       "PassengerId                                                          \n",
       "1                1      0         A/5 21171   7.2500   NaN        S  \n",
       "2                1      0          PC 17599  71.2833   C85        C  \n",
       "3                0      0  STON/O2. 3101282   7.9250   NaN        S  \n",
       "4                1      0            113803  53.1000  C123        S  \n",
       "5                0      0            373450   8.0500   NaN        S  "
      ]
     },
     "execution_count": 4,
     "metadata": {},
     "output_type": "execute_result"
    }
   ],
   "source": [
    "#데이터 프레임으로 데이터 읽어오기 \n",
    "df = pd.read_csv(\"data/titanic.csv\",index_col=[\"PassengerId\"])\n",
    "print(df.shape)\n",
    "df.head()"
   ]
  },
  {
   "cell_type": "markdown",
   "id": "7c087cf3",
   "metadata": {},
   "source": [
    "## 변수 설명 \n",
    "- Survived: 생존여부 \n",
    "- Pclass: 객실 등급 \n",
    "- Name: 이름 \n",
    "- Sex: 성별 \n",
    "- SibSp: 함께 탑승한 형제자매와 배우자수 \n",
    "- Parch: 함께 탑승한 부모와 자녀수\n",
    "- Ticket: 티켓 번호 \n",
    "- Fare: 운임 \n",
    "- Cabin: 선실 번호 \n",
    "- Embarked: 탑승 항구 (C=Cherbourg, Q=Queenstown, S=Southampton)"
   ]
  },
  {
   "cell_type": "markdown",
   "id": "55bae93f",
   "metadata": {},
   "source": [
    "## 2. 데이터 전처리 \n",
    "- 필요없는 열 제거 \n",
    "- 변수값 변환 \n",
    "- 독립변수와 종속변수 구분 "
   ]
  },
  {
   "cell_type": "code",
   "execution_count": 5,
   "id": "6291cfe6",
   "metadata": {},
   "outputs": [
    {
     "data": {
      "text/html": [
       "<div>\n",
       "<style scoped>\n",
       "    .dataframe tbody tr th:only-of-type {\n",
       "        vertical-align: middle;\n",
       "    }\n",
       "\n",
       "    .dataframe tbody tr th {\n",
       "        vertical-align: top;\n",
       "    }\n",
       "\n",
       "    .dataframe thead th {\n",
       "        text-align: right;\n",
       "    }\n",
       "</style>\n",
       "<table border=\"1\" class=\"dataframe\">\n",
       "  <thead>\n",
       "    <tr style=\"text-align: right;\">\n",
       "      <th></th>\n",
       "      <th>Survived</th>\n",
       "      <th>Pclass</th>\n",
       "      <th>Sex</th>\n",
       "      <th>Age</th>\n",
       "      <th>SibSp</th>\n",
       "      <th>Parch</th>\n",
       "      <th>Fare</th>\n",
       "    </tr>\n",
       "    <tr>\n",
       "      <th>PassengerId</th>\n",
       "      <th></th>\n",
       "      <th></th>\n",
       "      <th></th>\n",
       "      <th></th>\n",
       "      <th></th>\n",
       "      <th></th>\n",
       "      <th></th>\n",
       "    </tr>\n",
       "  </thead>\n",
       "  <tbody>\n",
       "    <tr>\n",
       "      <th>1</th>\n",
       "      <td>0</td>\n",
       "      <td>3</td>\n",
       "      <td>male</td>\n",
       "      <td>22.0</td>\n",
       "      <td>1</td>\n",
       "      <td>0</td>\n",
       "      <td>7.2500</td>\n",
       "    </tr>\n",
       "    <tr>\n",
       "      <th>2</th>\n",
       "      <td>1</td>\n",
       "      <td>1</td>\n",
       "      <td>female</td>\n",
       "      <td>38.0</td>\n",
       "      <td>1</td>\n",
       "      <td>0</td>\n",
       "      <td>71.2833</td>\n",
       "    </tr>\n",
       "    <tr>\n",
       "      <th>3</th>\n",
       "      <td>1</td>\n",
       "      <td>3</td>\n",
       "      <td>female</td>\n",
       "      <td>26.0</td>\n",
       "      <td>0</td>\n",
       "      <td>0</td>\n",
       "      <td>7.9250</td>\n",
       "    </tr>\n",
       "    <tr>\n",
       "      <th>4</th>\n",
       "      <td>1</td>\n",
       "      <td>1</td>\n",
       "      <td>female</td>\n",
       "      <td>35.0</td>\n",
       "      <td>1</td>\n",
       "      <td>0</td>\n",
       "      <td>53.1000</td>\n",
       "    </tr>\n",
       "    <tr>\n",
       "      <th>5</th>\n",
       "      <td>0</td>\n",
       "      <td>3</td>\n",
       "      <td>male</td>\n",
       "      <td>35.0</td>\n",
       "      <td>0</td>\n",
       "      <td>0</td>\n",
       "      <td>8.0500</td>\n",
       "    </tr>\n",
       "    <tr>\n",
       "      <th>...</th>\n",
       "      <td>...</td>\n",
       "      <td>...</td>\n",
       "      <td>...</td>\n",
       "      <td>...</td>\n",
       "      <td>...</td>\n",
       "      <td>...</td>\n",
       "      <td>...</td>\n",
       "    </tr>\n",
       "    <tr>\n",
       "      <th>887</th>\n",
       "      <td>0</td>\n",
       "      <td>2</td>\n",
       "      <td>male</td>\n",
       "      <td>27.0</td>\n",
       "      <td>0</td>\n",
       "      <td>0</td>\n",
       "      <td>13.0000</td>\n",
       "    </tr>\n",
       "    <tr>\n",
       "      <th>888</th>\n",
       "      <td>1</td>\n",
       "      <td>1</td>\n",
       "      <td>female</td>\n",
       "      <td>19.0</td>\n",
       "      <td>0</td>\n",
       "      <td>0</td>\n",
       "      <td>30.0000</td>\n",
       "    </tr>\n",
       "    <tr>\n",
       "      <th>889</th>\n",
       "      <td>0</td>\n",
       "      <td>3</td>\n",
       "      <td>female</td>\n",
       "      <td>NaN</td>\n",
       "      <td>1</td>\n",
       "      <td>2</td>\n",
       "      <td>23.4500</td>\n",
       "    </tr>\n",
       "    <tr>\n",
       "      <th>890</th>\n",
       "      <td>1</td>\n",
       "      <td>1</td>\n",
       "      <td>male</td>\n",
       "      <td>26.0</td>\n",
       "      <td>0</td>\n",
       "      <td>0</td>\n",
       "      <td>30.0000</td>\n",
       "    </tr>\n",
       "    <tr>\n",
       "      <th>891</th>\n",
       "      <td>0</td>\n",
       "      <td>3</td>\n",
       "      <td>male</td>\n",
       "      <td>32.0</td>\n",
       "      <td>0</td>\n",
       "      <td>0</td>\n",
       "      <td>7.7500</td>\n",
       "    </tr>\n",
       "  </tbody>\n",
       "</table>\n",
       "<p>891 rows × 7 columns</p>\n",
       "</div>"
      ],
      "text/plain": [
       "             Survived  Pclass     Sex   Age  SibSp  Parch     Fare\n",
       "PassengerId                                                       \n",
       "1                   0       3    male  22.0      1      0   7.2500\n",
       "2                   1       1  female  38.0      1      0  71.2833\n",
       "3                   1       3  female  26.0      0      0   7.9250\n",
       "4                   1       1  female  35.0      1      0  53.1000\n",
       "5                   0       3    male  35.0      0      0   8.0500\n",
       "...               ...     ...     ...   ...    ...    ...      ...\n",
       "887                 0       2    male  27.0      0      0  13.0000\n",
       "888                 1       1  female  19.0      0      0  30.0000\n",
       "889                 0       3  female   NaN      1      2  23.4500\n",
       "890                 1       1    male  26.0      0      0  30.0000\n",
       "891                 0       3    male  32.0      0      0   7.7500\n",
       "\n",
       "[891 rows x 7 columns]"
      ]
     },
     "execution_count": 5,
     "metadata": {},
     "output_type": "execute_result"
    }
   ],
   "source": [
    "#필요없는 칼럼제거 \n",
    "df=df.drop(['Name','Ticket','Cabin','Embarked'],axis=1)\n",
    "#제거확인 \n",
    "df"
   ]
  },
  {
   "cell_type": "code",
   "execution_count": 6,
   "id": "368f1cb4",
   "metadata": {},
   "outputs": [
    {
     "data": {
      "text/html": [
       "<div>\n",
       "<style scoped>\n",
       "    .dataframe tbody tr th:only-of-type {\n",
       "        vertical-align: middle;\n",
       "    }\n",
       "\n",
       "    .dataframe tbody tr th {\n",
       "        vertical-align: top;\n",
       "    }\n",
       "\n",
       "    .dataframe thead th {\n",
       "        text-align: right;\n",
       "    }\n",
       "</style>\n",
       "<table border=\"1\" class=\"dataframe\">\n",
       "  <thead>\n",
       "    <tr style=\"text-align: right;\">\n",
       "      <th></th>\n",
       "      <th>Survived</th>\n",
       "      <th>Pclass</th>\n",
       "      <th>Sex</th>\n",
       "      <th>Age</th>\n",
       "      <th>SibSp</th>\n",
       "      <th>Parch</th>\n",
       "      <th>Fare</th>\n",
       "    </tr>\n",
       "    <tr>\n",
       "      <th>PassengerId</th>\n",
       "      <th></th>\n",
       "      <th></th>\n",
       "      <th></th>\n",
       "      <th></th>\n",
       "      <th></th>\n",
       "      <th></th>\n",
       "      <th></th>\n",
       "    </tr>\n",
       "  </thead>\n",
       "  <tbody>\n",
       "    <tr>\n",
       "      <th>1</th>\n",
       "      <td>0</td>\n",
       "      <td>3</td>\n",
       "      <td>1</td>\n",
       "      <td>22.0</td>\n",
       "      <td>1</td>\n",
       "      <td>0</td>\n",
       "      <td>7.2500</td>\n",
       "    </tr>\n",
       "    <tr>\n",
       "      <th>2</th>\n",
       "      <td>1</td>\n",
       "      <td>1</td>\n",
       "      <td>0</td>\n",
       "      <td>38.0</td>\n",
       "      <td>1</td>\n",
       "      <td>0</td>\n",
       "      <td>71.2833</td>\n",
       "    </tr>\n",
       "    <tr>\n",
       "      <th>3</th>\n",
       "      <td>1</td>\n",
       "      <td>3</td>\n",
       "      <td>0</td>\n",
       "      <td>26.0</td>\n",
       "      <td>0</td>\n",
       "      <td>0</td>\n",
       "      <td>7.9250</td>\n",
       "    </tr>\n",
       "    <tr>\n",
       "      <th>4</th>\n",
       "      <td>1</td>\n",
       "      <td>1</td>\n",
       "      <td>0</td>\n",
       "      <td>35.0</td>\n",
       "      <td>1</td>\n",
       "      <td>0</td>\n",
       "      <td>53.1000</td>\n",
       "    </tr>\n",
       "    <tr>\n",
       "      <th>5</th>\n",
       "      <td>0</td>\n",
       "      <td>3</td>\n",
       "      <td>1</td>\n",
       "      <td>35.0</td>\n",
       "      <td>0</td>\n",
       "      <td>0</td>\n",
       "      <td>8.0500</td>\n",
       "    </tr>\n",
       "    <tr>\n",
       "      <th>...</th>\n",
       "      <td>...</td>\n",
       "      <td>...</td>\n",
       "      <td>...</td>\n",
       "      <td>...</td>\n",
       "      <td>...</td>\n",
       "      <td>...</td>\n",
       "      <td>...</td>\n",
       "    </tr>\n",
       "    <tr>\n",
       "      <th>887</th>\n",
       "      <td>0</td>\n",
       "      <td>2</td>\n",
       "      <td>1</td>\n",
       "      <td>27.0</td>\n",
       "      <td>0</td>\n",
       "      <td>0</td>\n",
       "      <td>13.0000</td>\n",
       "    </tr>\n",
       "    <tr>\n",
       "      <th>888</th>\n",
       "      <td>1</td>\n",
       "      <td>1</td>\n",
       "      <td>0</td>\n",
       "      <td>19.0</td>\n",
       "      <td>0</td>\n",
       "      <td>0</td>\n",
       "      <td>30.0000</td>\n",
       "    </tr>\n",
       "    <tr>\n",
       "      <th>889</th>\n",
       "      <td>0</td>\n",
       "      <td>3</td>\n",
       "      <td>0</td>\n",
       "      <td>NaN</td>\n",
       "      <td>1</td>\n",
       "      <td>2</td>\n",
       "      <td>23.4500</td>\n",
       "    </tr>\n",
       "    <tr>\n",
       "      <th>890</th>\n",
       "      <td>1</td>\n",
       "      <td>1</td>\n",
       "      <td>1</td>\n",
       "      <td>26.0</td>\n",
       "      <td>0</td>\n",
       "      <td>0</td>\n",
       "      <td>30.0000</td>\n",
       "    </tr>\n",
       "    <tr>\n",
       "      <th>891</th>\n",
       "      <td>0</td>\n",
       "      <td>3</td>\n",
       "      <td>1</td>\n",
       "      <td>32.0</td>\n",
       "      <td>0</td>\n",
       "      <td>0</td>\n",
       "      <td>7.7500</td>\n",
       "    </tr>\n",
       "  </tbody>\n",
       "</table>\n",
       "<p>891 rows × 7 columns</p>\n",
       "</div>"
      ],
      "text/plain": [
       "             Survived  Pclass  Sex   Age  SibSp  Parch     Fare\n",
       "PassengerId                                                    \n",
       "1                   0       3    1  22.0      1      0   7.2500\n",
       "2                   1       1    0  38.0      1      0  71.2833\n",
       "3                   1       3    0  26.0      0      0   7.9250\n",
       "4                   1       1    0  35.0      1      0  53.1000\n",
       "5                   0       3    1  35.0      0      0   8.0500\n",
       "...               ...     ...  ...   ...    ...    ...      ...\n",
       "887                 0       2    1  27.0      0      0  13.0000\n",
       "888                 1       1    0  19.0      0      0  30.0000\n",
       "889                 0       3    0   NaN      1      2  23.4500\n",
       "890                 1       1    1  26.0      0      0  30.0000\n",
       "891                 0       3    1  32.0      0      0   7.7500\n",
       "\n",
       "[891 rows x 7 columns]"
      ]
     },
     "execution_count": 6,
     "metadata": {},
     "output_type": "execute_result"
    }
   ],
   "source": [
    "#전처리: 진위형 변수로 변형 \n",
    "df[\"Sex\"] = df.Sex.map({\"female\":0,\"male\":1})\n",
    "#변수 변형 확인 \n",
    "df"
   ]
  },
  {
   "cell_type": "code",
   "execution_count": 7,
   "id": "b3786c29",
   "metadata": {},
   "outputs": [
    {
     "data": {
      "text/plain": [
       "Survived      0\n",
       "Pclass        0\n",
       "Sex           0\n",
       "Age         177\n",
       "SibSp         0\n",
       "Parch         0\n",
       "Fare          0\n",
       "dtype: int64"
      ]
     },
     "execution_count": 7,
     "metadata": {},
     "output_type": "execute_result"
    }
   ],
   "source": [
    "#결속치 확인 \n",
    "df.isnull().sum()"
   ]
  },
  {
   "cell_type": "code",
   "execution_count": 8,
   "id": "7ac131ad",
   "metadata": {},
   "outputs": [
    {
     "data": {
      "text/html": [
       "<div>\n",
       "<style scoped>\n",
       "    .dataframe tbody tr th:only-of-type {\n",
       "        vertical-align: middle;\n",
       "    }\n",
       "\n",
       "    .dataframe tbody tr th {\n",
       "        vertical-align: top;\n",
       "    }\n",
       "\n",
       "    .dataframe thead th {\n",
       "        text-align: right;\n",
       "    }\n",
       "</style>\n",
       "<table border=\"1\" class=\"dataframe\">\n",
       "  <thead>\n",
       "    <tr style=\"text-align: right;\">\n",
       "      <th></th>\n",
       "      <th>Survived</th>\n",
       "      <th>Pclass</th>\n",
       "      <th>Sex</th>\n",
       "      <th>Age</th>\n",
       "      <th>SibSp</th>\n",
       "      <th>Parch</th>\n",
       "      <th>Fare</th>\n",
       "    </tr>\n",
       "    <tr>\n",
       "      <th>PassengerId</th>\n",
       "      <th></th>\n",
       "      <th></th>\n",
       "      <th></th>\n",
       "      <th></th>\n",
       "      <th></th>\n",
       "      <th></th>\n",
       "      <th></th>\n",
       "    </tr>\n",
       "  </thead>\n",
       "  <tbody>\n",
       "    <tr>\n",
       "      <th>1</th>\n",
       "      <td>0</td>\n",
       "      <td>3</td>\n",
       "      <td>1</td>\n",
       "      <td>22.0</td>\n",
       "      <td>1</td>\n",
       "      <td>0</td>\n",
       "      <td>7.2500</td>\n",
       "    </tr>\n",
       "    <tr>\n",
       "      <th>2</th>\n",
       "      <td>1</td>\n",
       "      <td>1</td>\n",
       "      <td>0</td>\n",
       "      <td>38.0</td>\n",
       "      <td>1</td>\n",
       "      <td>0</td>\n",
       "      <td>71.2833</td>\n",
       "    </tr>\n",
       "    <tr>\n",
       "      <th>3</th>\n",
       "      <td>1</td>\n",
       "      <td>3</td>\n",
       "      <td>0</td>\n",
       "      <td>26.0</td>\n",
       "      <td>0</td>\n",
       "      <td>0</td>\n",
       "      <td>7.9250</td>\n",
       "    </tr>\n",
       "    <tr>\n",
       "      <th>4</th>\n",
       "      <td>1</td>\n",
       "      <td>1</td>\n",
       "      <td>0</td>\n",
       "      <td>35.0</td>\n",
       "      <td>1</td>\n",
       "      <td>0</td>\n",
       "      <td>53.1000</td>\n",
       "    </tr>\n",
       "    <tr>\n",
       "      <th>5</th>\n",
       "      <td>0</td>\n",
       "      <td>3</td>\n",
       "      <td>1</td>\n",
       "      <td>35.0</td>\n",
       "      <td>0</td>\n",
       "      <td>0</td>\n",
       "      <td>8.0500</td>\n",
       "    </tr>\n",
       "    <tr>\n",
       "      <th>...</th>\n",
       "      <td>...</td>\n",
       "      <td>...</td>\n",
       "      <td>...</td>\n",
       "      <td>...</td>\n",
       "      <td>...</td>\n",
       "      <td>...</td>\n",
       "      <td>...</td>\n",
       "    </tr>\n",
       "    <tr>\n",
       "      <th>887</th>\n",
       "      <td>0</td>\n",
       "      <td>2</td>\n",
       "      <td>1</td>\n",
       "      <td>27.0</td>\n",
       "      <td>0</td>\n",
       "      <td>0</td>\n",
       "      <td>13.0000</td>\n",
       "    </tr>\n",
       "    <tr>\n",
       "      <th>888</th>\n",
       "      <td>1</td>\n",
       "      <td>1</td>\n",
       "      <td>0</td>\n",
       "      <td>19.0</td>\n",
       "      <td>0</td>\n",
       "      <td>0</td>\n",
       "      <td>30.0000</td>\n",
       "    </tr>\n",
       "    <tr>\n",
       "      <th>889</th>\n",
       "      <td>0</td>\n",
       "      <td>3</td>\n",
       "      <td>0</td>\n",
       "      <td>28.0</td>\n",
       "      <td>1</td>\n",
       "      <td>2</td>\n",
       "      <td>23.4500</td>\n",
       "    </tr>\n",
       "    <tr>\n",
       "      <th>890</th>\n",
       "      <td>1</td>\n",
       "      <td>1</td>\n",
       "      <td>1</td>\n",
       "      <td>26.0</td>\n",
       "      <td>0</td>\n",
       "      <td>0</td>\n",
       "      <td>30.0000</td>\n",
       "    </tr>\n",
       "    <tr>\n",
       "      <th>891</th>\n",
       "      <td>0</td>\n",
       "      <td>3</td>\n",
       "      <td>1</td>\n",
       "      <td>32.0</td>\n",
       "      <td>0</td>\n",
       "      <td>0</td>\n",
       "      <td>7.7500</td>\n",
       "    </tr>\n",
       "  </tbody>\n",
       "</table>\n",
       "<p>891 rows × 7 columns</p>\n",
       "</div>"
      ],
      "text/plain": [
       "             Survived  Pclass  Sex   Age  SibSp  Parch     Fare\n",
       "PassengerId                                                    \n",
       "1                   0       3    1  22.0      1      0   7.2500\n",
       "2                   1       1    0  38.0      1      0  71.2833\n",
       "3                   1       3    0  26.0      0      0   7.9250\n",
       "4                   1       1    0  35.0      1      0  53.1000\n",
       "5                   0       3    1  35.0      0      0   8.0500\n",
       "...               ...     ...  ...   ...    ...    ...      ...\n",
       "887                 0       2    1  27.0      0      0  13.0000\n",
       "888                 1       1    0  19.0      0      0  30.0000\n",
       "889                 0       3    0  28.0      1      2  23.4500\n",
       "890                 1       1    1  26.0      0      0  30.0000\n",
       "891                 0       3    1  32.0      0      0   7.7500\n",
       "\n",
       "[891 rows x 7 columns]"
      ]
     },
     "execution_count": 8,
     "metadata": {},
     "output_type": "execute_result"
    }
   ],
   "source": [
    "#중간값으로 결속치 채워주기 \n",
    "df.Age.fillna(df.Age.median(),inplace=True)\n",
    "#중간값으로 채운 결속치 확인 \n",
    "df"
   ]
  },
  {
   "cell_type": "code",
   "execution_count": 9,
   "id": "35fcfe45",
   "metadata": {},
   "outputs": [],
   "source": [
    "#input 변수와 Output 변수 구분 \n",
    "X=np.array(df.iloc[:,1:])\n",
    "y=np.array(df['Survived'])"
   ]
  },
  {
   "cell_type": "code",
   "execution_count": 10,
   "id": "db6901d8",
   "metadata": {},
   "outputs": [
    {
     "data": {
      "text/plain": [
       "array([[ 3.    ,  1.    , 22.    ,  1.    ,  0.    ,  7.25  ],\n",
       "       [ 1.    ,  0.    , 38.    ,  1.    ,  0.    , 71.2833],\n",
       "       [ 3.    ,  0.    , 26.    ,  0.    ,  0.    ,  7.925 ],\n",
       "       ...,\n",
       "       [ 3.    ,  0.    , 28.    ,  1.    ,  2.    , 23.45  ],\n",
       "       [ 1.    ,  1.    , 26.    ,  0.    ,  0.    , 30.    ],\n",
       "       [ 3.    ,  1.    , 32.    ,  0.    ,  0.    ,  7.75  ]])"
      ]
     },
     "execution_count": 10,
     "metadata": {},
     "output_type": "execute_result"
    }
   ],
   "source": [
    "X"
   ]
  },
  {
   "cell_type": "code",
   "execution_count": 11,
   "id": "f8ccfee0",
   "metadata": {},
   "outputs": [
    {
     "data": {
      "text/plain": [
       "array([0, 1, 1, 1, 0, 0, 0, 0, 1, 1, 1, 1, 0, 0, 0, 1, 0, 1, 0, 1, 0, 1,\n",
       "       1, 1, 0, 1, 0, 0, 1, 0, 0, 1, 1, 0, 0, 0, 1, 0, 0, 1, 0, 0, 0, 1,\n",
       "       1, 0, 0, 1, 0, 0, 0, 0, 1, 1, 0, 1, 1, 0, 1, 0, 0, 1, 0, 0, 0, 1,\n",
       "       1, 0, 1, 0, 0, 0, 0, 0, 1, 0, 0, 0, 1, 1, 0, 1, 1, 0, 1, 1, 0, 0,\n",
       "       1, 0, 0, 0, 0, 0, 0, 0, 0, 1, 1, 0, 0, 0, 0, 0, 0, 0, 1, 1, 0, 1,\n",
       "       0, 0, 0, 0, 0, 0, 0, 0, 0, 0, 0, 0, 0, 1, 0, 1, 0, 1, 1, 0, 0, 0,\n",
       "       0, 1, 0, 0, 1, 0, 0, 0, 0, 1, 1, 0, 0, 0, 1, 0, 0, 0, 0, 1, 0, 0,\n",
       "       0, 0, 1, 0, 0, 0, 0, 1, 0, 0, 0, 1, 1, 0, 0, 0, 0, 0, 1, 0, 0, 0,\n",
       "       0, 0, 0, 0, 0, 0, 0, 1, 1, 0, 1, 1, 0, 0, 1, 0, 1, 1, 1, 1, 0, 0,\n",
       "       1, 0, 0, 0, 0, 0, 1, 0, 0, 1, 1, 1, 0, 1, 0, 0, 0, 1, 1, 0, 1, 0,\n",
       "       1, 0, 0, 0, 1, 0, 1, 0, 0, 0, 1, 0, 0, 1, 0, 0, 0, 1, 0, 0, 0, 1,\n",
       "       0, 0, 0, 0, 0, 1, 1, 0, 0, 0, 0, 0, 0, 1, 1, 1, 1, 1, 0, 1, 0, 0,\n",
       "       0, 0, 0, 1, 1, 1, 0, 1, 1, 0, 1, 1, 0, 0, 0, 1, 0, 0, 0, 1, 0, 0,\n",
       "       1, 0, 1, 1, 1, 1, 0, 0, 0, 0, 0, 0, 1, 1, 1, 1, 0, 1, 0, 1, 1, 1,\n",
       "       0, 1, 1, 1, 0, 0, 0, 1, 1, 0, 1, 1, 0, 0, 1, 1, 0, 1, 0, 1, 1, 1,\n",
       "       1, 0, 0, 0, 1, 0, 0, 1, 1, 0, 1, 1, 0, 0, 0, 1, 1, 1, 1, 0, 0, 0,\n",
       "       0, 0, 0, 0, 1, 0, 1, 1, 0, 0, 0, 0, 0, 0, 1, 1, 1, 1, 1, 0, 0, 0,\n",
       "       0, 1, 1, 0, 0, 0, 1, 1, 0, 1, 0, 0, 0, 1, 0, 1, 1, 1, 0, 1, 1, 0,\n",
       "       0, 0, 0, 1, 1, 0, 0, 0, 0, 0, 0, 1, 0, 0, 0, 0, 1, 0, 1, 0, 1, 1,\n",
       "       0, 0, 0, 0, 0, 0, 0, 0, 1, 1, 0, 1, 1, 1, 1, 0, 0, 1, 0, 1, 0, 0,\n",
       "       1, 0, 0, 1, 1, 1, 1, 1, 1, 1, 0, 0, 0, 1, 0, 1, 0, 1, 1, 0, 1, 0,\n",
       "       0, 0, 0, 0, 0, 0, 0, 1, 0, 0, 1, 1, 0, 0, 0, 0, 0, 1, 0, 0, 0, 1,\n",
       "       1, 0, 1, 0, 0, 1, 0, 0, 0, 0, 0, 0, 1, 0, 0, 0, 0, 0, 0, 0, 1, 0,\n",
       "       1, 1, 0, 1, 1, 0, 1, 1, 0, 0, 1, 0, 1, 0, 1, 0, 0, 1, 0, 0, 1, 0,\n",
       "       0, 0, 1, 0, 0, 1, 0, 1, 0, 1, 0, 1, 1, 0, 0, 1, 0, 0, 1, 1, 0, 1,\n",
       "       1, 0, 0, 1, 1, 0, 1, 0, 1, 1, 0, 0, 0, 0, 0, 0, 0, 0, 0, 1, 1, 1,\n",
       "       1, 1, 0, 0, 1, 1, 0, 1, 1, 1, 0, 0, 0, 1, 0, 1, 0, 0, 0, 1, 0, 0,\n",
       "       0, 0, 1, 0, 0, 1, 1, 0, 0, 0, 1, 0, 0, 1, 1, 1, 0, 0, 1, 0, 0, 1,\n",
       "       0, 0, 1, 0, 0, 1, 1, 0, 0, 0, 0, 1, 0, 0, 1, 0, 1, 0, 0, 1, 0, 0,\n",
       "       0, 0, 0, 1, 0, 1, 1, 1, 0, 1, 0, 1, 0, 1, 0, 1, 0, 0, 0, 0, 0, 0,\n",
       "       1, 0, 0, 0, 1, 0, 0, 0, 0, 1, 1, 0, 0, 1, 0, 0, 0, 1, 0, 1, 0, 1,\n",
       "       0, 0, 0, 0, 0, 0, 0, 1, 1, 1, 1, 0, 0, 0, 0, 1, 0, 0, 1, 1, 0, 0,\n",
       "       0, 0, 1, 1, 1, 1, 1, 0, 1, 0, 0, 0, 1, 1, 0, 0, 1, 0, 0, 0, 1, 0,\n",
       "       1, 1, 0, 0, 1, 0, 0, 0, 0, 0, 0, 1, 0, 0, 1, 0, 1, 0, 1, 0, 0, 1,\n",
       "       0, 0, 1, 1, 0, 0, 1, 1, 0, 0, 0, 1, 0, 0, 1, 1, 0, 1, 0, 0, 0, 0,\n",
       "       0, 0, 0, 0, 1, 0, 0, 1, 0, 1, 1, 1, 0, 0, 0, 0, 1, 0, 1, 0, 0, 0,\n",
       "       0, 0, 0, 0, 1, 1, 0, 0, 0, 1, 1, 1, 1, 0, 0, 0, 0, 1, 0, 0, 0, 0,\n",
       "       0, 0, 0, 0, 0, 0, 1, 1, 0, 1, 0, 0, 0, 1, 1, 1, 1, 1, 0, 0, 0, 1,\n",
       "       0, 0, 1, 1, 0, 0, 1, 0, 0, 0, 0, 0, 0, 1, 0, 0, 0, 1, 0, 1, 1, 1,\n",
       "       1, 0, 0, 0, 1, 0, 0, 1, 1, 0, 0, 1, 0, 1, 0, 0, 1, 1, 0, 0, 0, 1,\n",
       "       1, 0, 0, 0, 0, 0, 0, 1, 0, 1, 0])"
      ]
     },
     "execution_count": 11,
     "metadata": {},
     "output_type": "execute_result"
    }
   ],
   "source": [
    "y"
   ]
  },
  {
   "cell_type": "markdown",
   "id": "0819847c",
   "metadata": {},
   "source": [
    "## 3.모델적합 / 변수 중요도"
   ]
  },
  {
   "cell_type": "code",
   "execution_count": 13,
   "id": "c704af99",
   "metadata": {
    "scrolled": true
   },
   "outputs": [
    {
     "data": {
      "text/plain": [
       "DecisionTreeClassifier(max_depth=3, random_state=0)"
      ]
     },
     "execution_count": 13,
     "metadata": {},
     "output_type": "execute_result"
    }
   ],
   "source": [
    "#트레이닝 세트와 테스트 세트로 데이터 구분 (여기서는 7:3으로 구분해준다)\n",
    "from sklearn.model_selection import train_test_split\n",
    "\n",
    "#randomstate는 반복적으로 같은 결과를 만들어 내기 위하여 설정해준다 \n",
    "X_train, X_test, y_train, y_test = train_test_split(X,y, test_size=0.3,random_state=0)\n",
    "\n",
    "tree = DecisionTreeClassifier(max_depth = 3, random_state=0)\n",
    "tree.fit(X_train, y_train)"
   ]
  },
  {
   "cell_type": "code",
   "execution_count": 14,
   "id": "932f5bd1",
   "metadata": {},
   "outputs": [
    {
     "data": {
      "text/plain": [
       "array([0.17568873, 0.61552198, 0.06794334, 0.08767138, 0.        ,\n",
       "       0.05317456])"
      ]
     },
     "execution_count": 14,
     "metadata": {},
     "output_type": "execute_result"
    }
   ],
   "source": [
    "#각 변수에 대한 중요도 값이 array로 반환이 된다\n",
    "tree.feature_importances_"
   ]
  },
  {
   "cell_type": "code",
   "execution_count": 15,
   "id": "f238348b",
   "metadata": {},
   "outputs": [
    {
     "data": {
      "text/html": [
       "<div>\n",
       "<style scoped>\n",
       "    .dataframe tbody tr th:only-of-type {\n",
       "        vertical-align: middle;\n",
       "    }\n",
       "\n",
       "    .dataframe tbody tr th {\n",
       "        vertical-align: top;\n",
       "    }\n",
       "\n",
       "    .dataframe thead th {\n",
       "        text-align: right;\n",
       "    }\n",
       "</style>\n",
       "<table border=\"1\" class=\"dataframe\">\n",
       "  <thead>\n",
       "    <tr style=\"text-align: right;\">\n",
       "      <th></th>\n",
       "      <th>0</th>\n",
       "      <th>1</th>\n",
       "      <th>2</th>\n",
       "      <th>3</th>\n",
       "      <th>4</th>\n",
       "      <th>5</th>\n",
       "    </tr>\n",
       "  </thead>\n",
       "  <tbody>\n",
       "    <tr>\n",
       "      <th>feature_importance</th>\n",
       "      <td>0.175689</td>\n",
       "      <td>0.615522</td>\n",
       "      <td>0.067943</td>\n",
       "      <td>0.087671</td>\n",
       "      <td>0.0</td>\n",
       "      <td>0.053175</td>\n",
       "    </tr>\n",
       "  </tbody>\n",
       "</table>\n",
       "</div>"
      ],
      "text/plain": [
       "                           0         1         2         3    4         5\n",
       "feature_importance  0.175689  0.615522  0.067943  0.087671  0.0  0.053175"
      ]
     },
     "execution_count": 15,
     "metadata": {},
     "output_type": "execute_result"
    }
   ],
   "source": [
    "pd.DataFrame(tree.feature_importances_.reshape((1,-1)), index=['feature_importance'])"
   ]
  },
  {
   "cell_type": "code",
   "execution_count": 16,
   "id": "ffb604e8",
   "metadata": {},
   "outputs": [
    {
     "data": {
      "text/plain": [
       "Index(['Survived', 'Pclass', 'Sex', 'Age', 'SibSp', 'Parch', 'Fare'], dtype='object')"
      ]
     },
     "execution_count": 16,
     "metadata": {},
     "output_type": "execute_result"
    }
   ],
   "source": [
    "df.columns"
   ]
  },
  {
   "cell_type": "code",
   "execution_count": 17,
   "id": "a9ee1108",
   "metadata": {},
   "outputs": [
    {
     "data": {
      "text/html": [
       "<div>\n",
       "<style scoped>\n",
       "    .dataframe tbody tr th:only-of-type {\n",
       "        vertical-align: middle;\n",
       "    }\n",
       "\n",
       "    .dataframe tbody tr th {\n",
       "        vertical-align: top;\n",
       "    }\n",
       "\n",
       "    .dataframe thead th {\n",
       "        text-align: right;\n",
       "    }\n",
       "</style>\n",
       "<table border=\"1\" class=\"dataframe\">\n",
       "  <thead>\n",
       "    <tr style=\"text-align: right;\">\n",
       "      <th></th>\n",
       "      <th>Pclass</th>\n",
       "      <th>Sex</th>\n",
       "      <th>Age</th>\n",
       "      <th>SibSp</th>\n",
       "      <th>Parch</th>\n",
       "      <th>Fare</th>\n",
       "    </tr>\n",
       "  </thead>\n",
       "  <tbody>\n",
       "    <tr>\n",
       "      <th>feature_importance</th>\n",
       "      <td>0.175689</td>\n",
       "      <td>0.615522</td>\n",
       "      <td>0.067943</td>\n",
       "      <td>0.087671</td>\n",
       "      <td>0.0</td>\n",
       "      <td>0.053175</td>\n",
       "    </tr>\n",
       "  </tbody>\n",
       "</table>\n",
       "</div>"
      ],
      "text/plain": [
       "                      Pclass       Sex       Age     SibSp  Parch      Fare\n",
       "feature_importance  0.175689  0.615522  0.067943  0.087671    0.0  0.053175"
      ]
     },
     "execution_count": 17,
     "metadata": {},
     "output_type": "execute_result"
    }
   ],
   "source": [
    "pd.DataFrame(tree.feature_importances_.reshape((1,-1)), columns = df.columns[1:],\n",
    "             index=['feature_importance'])\n",
    "#성별이 압도적으로 중요하고 다음은 객실정보가 가장 중요하다 부모 자녀의 영향도는 거의 없다"
   ]
  },
  {
   "cell_type": "code",
   "execution_count": 18,
   "id": "ea43bd24",
   "metadata": {},
   "outputs": [
    {
     "data": {
      "text/plain": [
       "DecisionTreeClassifier(max_depth=3, random_state=0)"
      ]
     },
     "execution_count": 18,
     "metadata": {},
     "output_type": "execute_result"
    }
   ],
   "source": [
    "#의사결정나무 모델에 데이터 적합(fitting)\n",
    "from sklearn.tree import DecisionTreeClassifier\n",
    "tree = DecisionTreeClassifier(random_state=0,max_depth=3)\n",
    "tree.fit(X_train,y_train)"
   ]
  },
  {
   "cell_type": "markdown",
   "id": "1285ffbe",
   "metadata": {},
   "source": [
    "## 4. 모델 성능 평가"
   ]
  },
  {
   "cell_type": "code",
   "execution_count": 19,
   "id": "2c1a7ca5",
   "metadata": {},
   "outputs": [
    {
     "name": "stdout",
     "output_type": "stream",
     "text": [
      "예측값\n",
      " [0 0 0 1 1 0 1 1 0 1 0 1 0 1 1 1 0 0 0 1 0 1 0 0 1 1 0 1 1 0 0 1 0 0 0 0 0\n",
      " 0 0 0 0 0 0 0 1 0 0 1 0 0 0 0 1 0 0 0 0 0 0 0 0 1 1 0 1 0 1 0 0 1 1 0 0 0\n",
      " 0 1 0 0 0 0 0 1 1 0 0 1 1 1 1 0 0 0 1 1 0 0 1 0 0 0 0 0 0 0 1 1 1 0 0 1 0\n",
      " 1 0 1 0 1 1 1 0 1 0 0 0 0 0 0 0 0 0 0 1 0 0 1 0 0 0 1 0 0 0 1 0 1 1 1 0 1\n",
      " 1 0 0 1 1 0 1 0 1 0 1 1 0 0 1 1 0 0 0 0 0 0 0 1 0 0 1 0 1 0 0 1 0 0 0 0 0\n",
      " 0 1 0 0 1 1 0 1 1 0 0 0 1 0 0 0 1 0 1 0 0 1 0 1 0 0 0 0 1 0 0 0 1 0 1 0 1\n",
      " 1 0 1 0 0 1 0 0 0 1 1 1 0 0 1 1 1 0 0 1 0 0 1 0 1 0 0 1 0 0 0 0 0 1 1 0 0\n",
      " 0 0 0 0 0 0 0 1 0]\n",
      "실제값\n",
      " [0 0 0 1 1 1 1 1 1 1 0 1 0 1 1 0 0 0 0 1 0 1 0 0 0 1 0 1 1 0 0 1 0 1 0 1 0\n",
      " 0 0 0 1 0 0 0 1 0 0 1 0 0 1 1 1 0 1 0 0 0 0 1 0 0 1 0 1 0 1 0 1 1 1 1 0 0\n",
      " 0 1 0 0 0 0 0 1 0 0 0 1 1 1 1 0 0 0 1 1 0 0 1 0 0 1 0 0 0 0 0 1 1 0 0 1 0\n",
      " 1 1 0 1 1 1 1 0 1 1 0 0 0 0 0 0 1 0 0 0 0 0 0 0 0 0 0 0 0 0 1 0 0 1 0 0 1\n",
      " 1 0 0 1 0 0 1 0 0 1 0 1 0 1 1 1 0 0 0 0 0 0 0 1 0 0 1 0 1 0 0 0 0 0 0 0 0\n",
      " 0 1 0 0 1 0 0 1 1 0 0 0 1 1 0 1 0 0 1 1 0 0 0 1 0 0 1 0 0 0 0 0 1 0 1 0 1\n",
      " 1 0 1 0 0 1 1 0 0 1 1 0 0 0 1 1 1 0 0 1 0 0 1 1 0 0 0 1 0 0 0 0 0 0 1 1 1\n",
      " 0 0 0 0 0 0 0 1 0]\n"
     ]
    }
   ],
   "source": [
    "temp_y_pred = tree.predict(X_test)\n",
    "#Training 값을 X_test에서 넣음 \n",
    "print('예측값\\n',temp_y_pred)\n",
    "print('실제값\\n',y_test)"
   ]
  },
  {
   "cell_type": "code",
   "execution_count": 20,
   "id": "a09be882",
   "metadata": {},
   "outputs": [
    {
     "name": "stdout",
     "output_type": "stream",
     "text": [
      "정확도: 0.8208955223880597\n"
     ]
    }
   ],
   "source": [
    "#정확도 계산 \n",
    "from sklearn.metrics import classification_report,accuracy_score,confusion_matrix \n",
    "\n",
    "temp_acc = accuracy_score(y_test,temp_y_pred)\n",
    "\n",
    "#y_test와 temp_y_pred로 예측한 값을 적용하여 temp_Acc로 추출함 \n",
    "print('정확도:',format(temp_acc))"
   ]
  },
  {
   "cell_type": "code",
   "execution_count": 21,
   "id": "e3114f57",
   "metadata": {},
   "outputs": [
    {
     "name": "stdout",
     "output_type": "stream",
     "text": [
      "[[146  22]\n",
      " [ 26  74]]\n"
     ]
    }
   ],
   "source": [
    "#오차행렬 (confusion matrix)\n",
    "print(confusion_matrix(y_test,temp_y_pred))"
   ]
  },
  {
   "cell_type": "code",
   "execution_count": 22,
   "id": "4e94df1a",
   "metadata": {},
   "outputs": [
    {
     "name": "stdout",
     "output_type": "stream",
     "text": [
      "              precision    recall  f1-score   support\n",
      "\n",
      "           0       0.87      0.85      0.86       172\n",
      "           1       0.74      0.77      0.76        96\n",
      "\n",
      "    accuracy                           0.82       268\n",
      "   macro avg       0.80      0.81      0.81       268\n",
      "weighted avg       0.82      0.82      0.82       268\n",
      "\n"
     ]
    }
   ],
   "source": [
    "#모델 성능 \n",
    "print(classification_report((tree.predict(X_test)> 0.5).astype(\"int16\"),y_test))"
   ]
  },
  {
   "cell_type": "code",
   "execution_count": 23,
   "id": "5c758974",
   "metadata": {},
   "outputs": [],
   "source": [
    "train_scores, test_scores = list(),list ()\n",
    "#Train_scroe와 test_score의 정확도를 저장할 장소 \n",
    "#Train_score는 훈련데이터에 특화될수록 증가 \n",
    "#Test_score는 테스트데이터에 일반화될수록 증가 "
   ]
  },
  {
   "cell_type": "code",
   "execution_count": 24,
   "id": "7e516850",
   "metadata": {
    "scrolled": true
   },
   "outputs": [
    {
     "name": "stdout",
     "output_type": "stream",
     "text": [
      ">1, train: 0.787,test:0.787313\n",
      ">2, train: 0.791,test:0.787313\n",
      ">3, train: 0.836,test:0.820896\n",
      ">4, train: 0.844,test:0.820896\n",
      ">5, train: 0.859,test:0.813433\n",
      ">6, train: 0.872,test:0.794776\n",
      ">7, train: 0.881,test:0.802239\n",
      ">8, train: 0.905,test:0.805970\n",
      ">9, train: 0.925,test:0.805970\n",
      ">10, train: 0.939,test:0.802239\n",
      ">11, train: 0.960,test:0.794776\n",
      ">12, train: 0.968,test:0.817164\n",
      ">13, train: 0.971,test:0.791045\n",
      ">14, train: 0.976,test:0.820896\n",
      ">15, train: 0.978,test:0.809701\n",
      ">16, train: 0.978,test:0.805970\n",
      ">17, train: 0.979,test:0.787313\n",
      ">18, train: 0.979,test:0.798507\n",
      ">19, train: 0.979,test:0.802239\n"
     ]
    }
   ],
   "source": [
    "#의사결정 나무 모델의 depth 조절 (1에서 19까지)\n",
    "for i in range(1,20):\n",
    "    DT1 = DecisionTreeClassifier (max_depth =i)\n",
    "    #깊이를 증가시키면서 의사결정나무 모델 적합 \n",
    "    DT1.fit(X_train,y_train)\n",
    "    \n",
    "    #training dataset 정확도 평가 \n",
    "    train_att = DT1.predict(X_train)\n",
    "    train_acc=accuracy_score(y_train, train_att)\n",
    "    train_scores.append(train_acc)\n",
    "    \n",
    "    #test dataset 정확도 평가 \n",
    "    test_att = DT1.predict(X_test)\n",
    "    test_acc = accuracy_score(y_test,test_att)\n",
    "    test_scores.append(test_acc)\n",
    "    \n",
    "    #train 정확도와 test 정확도를 depth 개수에 따른 정확도 확인\n",
    "    print('>%d, train: %.3f,test:%3f'%(i,train_acc,test_acc))"
   ]
  },
  {
   "cell_type": "code",
   "execution_count": 25,
   "id": "979c36dc",
   "metadata": {
    "scrolled": true
   },
   "outputs": [
    {
     "data": {
      "image/png": "[encoded data removed]",
      "text/plain": [
       "<Figure size 432x288 with 1 Axes>"
      ]
     },
     "metadata": {
      "needs_background": "light"
     },
     "output_type": "display_data"
    }
   ],
   "source": [
    "from matplotlib import pyplot\n",
    "pyplot.plot(range(1,20),train_scores,'-o',label=\"Train_acc\")\n",
    "pyplot.plot(range(1,20),test_scores,'-o',label=\"Test_acc\")\n",
    "pyplot.legend()\n",
    "pyplot.show()\n",
    "\n",
    "#최적의 의사결정나무 싶이는 3\n"
   ]
  },
  {
   "cell_type": "markdown",
   "id": "a2b77bf1",
   "metadata": {},
   "source": [
    "## 트리시각화"
   ]
  },
  {
   "cell_type": "code",
   "execution_count": 44,
   "id": "3ecb0622",
   "metadata": {
    "scrolled": true
   },
   "outputs": [
    {
     "name": "stdout",
     "output_type": "stream",
     "text": [
      "Requirement already satisfied: pydotplus in /Users/seonghyeonma/opt/anaconda3/lib/python3.8/site-packages (2.0.2)\n",
      "Requirement already satisfied: pyparsing>=2.0.1 in /Users/seonghyeonma/opt/anaconda3/lib/python3.8/site-packages (from pydotplus) (2.4.7)\n",
      "Requirement already satisfied: graphviz in /Users/seonghyeonma/opt/anaconda3/lib/python3.8/site-packages (0.17)\n"
     ]
    }
   ],
   "source": [
    "#트리시각화를 위한 라이브러리 설치 \n",
    "!pip install pydotplus \n",
    "!pip install graphviz"
   ]
  },
  {
   "cell_type": "code",
   "execution_count": 27,
   "id": "aa1ab016",
   "metadata": {},
   "outputs": [
    {
     "data": {
      "image/svg+xml": "<?xml version=\"1.0\" encoding=\"UTF-8\" standalone=\"no\"?>\n<!DOCTYPE svg PUBLIC \"-//W3C//DTD SVG 1.1//EN\"\n \"http://www.w3.org/Graphics/SVG/1.1/DTD/svg11.dtd\">\n<!-- Generated by graphviz version 2.40.1 (20161225.0304)\n -->\n<!-- Title: Tree Pages: 1 -->\n<svg width=\"974pt\" height=\"433pt\"\n viewBox=\"0.00 0.00 973.50 433.00\" xmlns=\"http://www.w3.org/2000/svg\" xmlns:xlink=\"http://www.w3.org/1999/xlink\">\n<g id=\"graph0\" class=\"graph\" transform=\"scale(1 1) rotate(0) translate(4 429)\">\n<title>Tree</title>\n<polygon fill=\"#ffffff\" stroke=\"transparent\" points=\"-4,4 -4,-429 969.5,-429 969.5,4 -4,4\"/>\n<!-- 0 -->\n<g id=\"node1\" class=\"node\">\n<title>0</title>\n<polygon fill=\"none\" stroke=\"#000000\" points=\"532,-425 412,-425 412,-342 532,-342 532,-425\"/>\n<text text-anchor=\"middle\" x=\"472\" y=\"-409.8\" font-family=\"Times,serif\" font-size=\"14.00\" fill=\"#000000\">Sex &lt;= 0.5</text>\n<text text-anchor=\"middle\" x=\"472\" y=\"-394.8\" font-family=\"Times,serif\" font-size=\"14.00\" fill=\"#000000\">gini = 0.475</text>\n<text text-anchor=\"middle\" x=\"472\" y=\"-379.8\" font-family=\"Times,serif\" font-size=\"14.00\" fill=\"#000000\">samples = 623</text>\n<text text-anchor=\"middle\" x=\"472\" y=\"-364.8\" font-family=\"Times,serif\" font-size=\"14.00\" fill=\"#000000\">value = [381, 242]</text>\n<text text-anchor=\"middle\" x=\"472\" y=\"-349.8\" font-family=\"Times,serif\" font-size=\"14.00\" fill=\"#000000\">class = Perish</text>\n</g>\n<!-- 1 -->\n<g id=\"node2\" class=\"node\">\n<title>1</title>\n<polygon fill=\"none\" stroke=\"#000000\" points=\"406.5,-306 293.5,-306 293.5,-223 406.5,-223 406.5,-306\"/>\n<text text-anchor=\"middle\" x=\"350\" y=\"-290.8\" font-family=\"Times,serif\" font-size=\"14.00\" fill=\"#000000\">Pclass &lt;= 2.5</text>\n<text text-anchor=\"middle\" x=\"350\" y=\"-275.8\" font-family=\"Times,serif\" font-size=\"14.00\" fill=\"#000000\">gini = 0.371</text>\n<text text-anchor=\"middle\" x=\"350\" y=\"-260.8\" font-family=\"Times,serif\" font-size=\"14.00\" fill=\"#000000\">samples = 215</text>\n<text text-anchor=\"middle\" x=\"350\" y=\"-245.8\" font-family=\"Times,serif\" font-size=\"14.00\" fill=\"#000000\">value = [53, 162]</text>\n<text text-anchor=\"middle\" x=\"350\" y=\"-230.8\" font-family=\"Times,serif\" font-size=\"14.00\" fill=\"#000000\">class = Survived</text>\n</g>\n<!-- 0&#45;&gt;1 -->\n<g id=\"edge1\" class=\"edge\">\n<title>0&#45;&gt;1</title>\n<path fill=\"none\" stroke=\"#000000\" d=\"M429.3303,-341.8796C419.9123,-332.6931 409.8516,-322.8798 400.1672,-313.4336\"/>\n<polygon fill=\"#000000\" stroke=\"#000000\" points=\"402.4543,-310.7751 392.8518,-306.2981 397.5665,-315.7861 402.4543,-310.7751\"/>\n<text text-anchor=\"middle\" x=\"393.163\" y=\"-327.5961\" font-family=\"Times,serif\" font-size=\"14.00\" fill=\"#000000\">True</text>\n</g>\n<!-- 8 -->\n<g id=\"node9\" class=\"node\">\n<title>8</title>\n<polygon fill=\"none\" stroke=\"#000000\" points=\"651.5,-306 538.5,-306 538.5,-223 651.5,-223 651.5,-306\"/>\n<text text-anchor=\"middle\" x=\"595\" y=\"-290.8\" font-family=\"Times,serif\" font-size=\"14.00\" fill=\"#000000\">Age &lt;= 14.0</text>\n<text text-anchor=\"middle\" x=\"595\" y=\"-275.8\" font-family=\"Times,serif\" font-size=\"14.00\" fill=\"#000000\">gini = 0.315</text>\n<text text-anchor=\"middle\" x=\"595\" y=\"-260.8\" font-family=\"Times,serif\" font-size=\"14.00\" fill=\"#000000\">samples = 408</text>\n<text text-anchor=\"middle\" x=\"595\" y=\"-245.8\" font-family=\"Times,serif\" font-size=\"14.00\" fill=\"#000000\">value = [328, 80]</text>\n<text text-anchor=\"middle\" x=\"595\" y=\"-230.8\" font-family=\"Times,serif\" font-size=\"14.00\" fill=\"#000000\">class = Perish</text>\n</g>\n<!-- 0&#45;&gt;8 -->\n<g id=\"edge8\" class=\"edge\">\n<title>0&#45;&gt;8</title>\n<path fill=\"none\" stroke=\"#000000\" d=\"M515.0194,-341.8796C524.5147,-332.6931 534.6578,-322.8798 544.4215,-313.4336\"/>\n<polygon fill=\"#000000\" stroke=\"#000000\" points=\"547.0436,-315.7668 551.797,-306.2981 542.1763,-310.7359 547.0436,-315.7668\"/>\n<text text-anchor=\"middle\" x=\"551.3838\" y=\"-327.5947\" font-family=\"Times,serif\" font-size=\"14.00\" fill=\"#000000\">False</text>\n</g>\n<!-- 2 -->\n<g id=\"node3\" class=\"node\">\n<title>2</title>\n<polygon fill=\"none\" stroke=\"#000000\" points=\"221.5,-187 112.5,-187 112.5,-104 221.5,-104 221.5,-187\"/>\n<text text-anchor=\"middle\" x=\"167\" y=\"-171.8\" font-family=\"Times,serif\" font-size=\"14.00\" fill=\"#000000\">Age &lt;= 2.5</text>\n<text text-anchor=\"middle\" x=\"167\" y=\"-156.8\" font-family=\"Times,serif\" font-size=\"14.00\" fill=\"#000000\">gini = 0.123</text>\n<text text-anchor=\"middle\" x=\"167\" y=\"-141.8\" font-family=\"Times,serif\" font-size=\"14.00\" fill=\"#000000\">samples = 122</text>\n<text text-anchor=\"middle\" x=\"167\" y=\"-126.8\" font-family=\"Times,serif\" font-size=\"14.00\" fill=\"#000000\">value = [8, 114]</text>\n<text text-anchor=\"middle\" x=\"167\" y=\"-111.8\" font-family=\"Times,serif\" font-size=\"14.00\" fill=\"#000000\">class = Survived</text>\n</g>\n<!-- 1&#45;&gt;2 -->\n<g id=\"edge2\" class=\"edge\">\n<title>1&#45;&gt;2</title>\n<path fill=\"none\" stroke=\"#000000\" d=\"M293.1008,-227.5C273.1787,-214.5452 250.6903,-199.9215 230.2788,-186.6485\"/>\n<polygon fill=\"#000000\" stroke=\"#000000\" points=\"231.9631,-183.5689 221.6717,-181.0515 228.1471,-189.4373 231.9631,-183.5689\"/>\n</g>\n<!-- 5 -->\n<g id=\"node6\" class=\"node\">\n<title>5</title>\n<polygon fill=\"none\" stroke=\"#000000\" points=\"404.5,-187 295.5,-187 295.5,-104 404.5,-104 404.5,-187\"/>\n<text text-anchor=\"middle\" x=\"350\" y=\"-171.8\" font-family=\"Times,serif\" font-size=\"14.00\" fill=\"#000000\">Fare &lt;= 23.35</text>\n<text text-anchor=\"middle\" x=\"350\" y=\"-156.8\" font-family=\"Times,serif\" font-size=\"14.00\" fill=\"#000000\">gini = 0.499</text>\n<text text-anchor=\"middle\" x=\"350\" y=\"-141.8\" font-family=\"Times,serif\" font-size=\"14.00\" fill=\"#000000\">samples = 93</text>\n<text text-anchor=\"middle\" x=\"350\" y=\"-126.8\" font-family=\"Times,serif\" font-size=\"14.00\" fill=\"#000000\">value = [45, 48]</text>\n<text text-anchor=\"middle\" x=\"350\" y=\"-111.8\" font-family=\"Times,serif\" font-size=\"14.00\" fill=\"#000000\">class = Survived</text>\n</g>\n<!-- 1&#45;&gt;5 -->\n<g id=\"edge5\" class=\"edge\">\n<title>1&#45;&gt;5</title>\n<path fill=\"none\" stroke=\"#000000\" d=\"M350,-222.8796C350,-214.6838 350,-205.9891 350,-197.5013\"/>\n<polygon fill=\"#000000\" stroke=\"#000000\" points=\"353.5001,-197.298 350,-187.2981 346.5001,-197.2981 353.5001,-197.298\"/>\n</g>\n<!-- 3 -->\n<g id=\"node4\" class=\"node\">\n<title>3</title>\n<polygon fill=\"none\" stroke=\"#000000\" points=\"94,-68 0,-68 0,0 94,0 94,-68\"/>\n<text text-anchor=\"middle\" x=\"47\" y=\"-52.8\" font-family=\"Times,serif\" font-size=\"14.00\" fill=\"#000000\">gini = 0.0</text>\n<text text-anchor=\"middle\" x=\"47\" y=\"-37.8\" font-family=\"Times,serif\" font-size=\"14.00\" fill=\"#000000\">samples = 1</text>\n<text text-anchor=\"middle\" x=\"47\" y=\"-22.8\" font-family=\"Times,serif\" font-size=\"14.00\" fill=\"#000000\">value = [1, 0]</text>\n<text text-anchor=\"middle\" x=\"47\" y=\"-7.8\" font-family=\"Times,serif\" font-size=\"14.00\" fill=\"#000000\">class = Perish</text>\n</g>\n<!-- 2&#45;&gt;3 -->\n<g id=\"edge3\" class=\"edge\">\n<title>2&#45;&gt;3</title>\n<path fill=\"none\" stroke=\"#000000\" d=\"M122.3164,-103.9815C112.2273,-94.607 101.519,-84.6572 91.4399,-75.2921\"/>\n<polygon fill=\"#000000\" stroke=\"#000000\" points=\"93.5839,-72.5065 83.8757,-68.2637 88.8191,-77.6346 93.5839,-72.5065\"/>\n</g>\n<!-- 4 -->\n<g id=\"node5\" class=\"node\">\n<title>4</title>\n<polygon fill=\"none\" stroke=\"#000000\" points=\"221.5,-68 112.5,-68 112.5,0 221.5,0 221.5,-68\"/>\n<text text-anchor=\"middle\" x=\"167\" y=\"-52.8\" font-family=\"Times,serif\" font-size=\"14.00\" fill=\"#000000\">gini = 0.109</text>\n<text text-anchor=\"middle\" x=\"167\" y=\"-37.8\" font-family=\"Times,serif\" font-size=\"14.00\" fill=\"#000000\">samples = 121</text>\n<text text-anchor=\"middle\" x=\"167\" y=\"-22.8\" font-family=\"Times,serif\" font-size=\"14.00\" fill=\"#000000\">value = [7, 114]</text>\n<text text-anchor=\"middle\" x=\"167\" y=\"-7.8\" font-family=\"Times,serif\" font-size=\"14.00\" fill=\"#000000\">class = Survived</text>\n</g>\n<!-- 2&#45;&gt;4 -->\n<g id=\"edge4\" class=\"edge\">\n<title>2&#45;&gt;4</title>\n<path fill=\"none\" stroke=\"#000000\" d=\"M167,-103.9815C167,-95.618 167,-86.7965 167,-78.3409\"/>\n<polygon fill=\"#000000\" stroke=\"#000000\" points=\"170.5001,-78.2636 167,-68.2637 163.5001,-78.2637 170.5001,-78.2636\"/>\n</g>\n<!-- 6 -->\n<g id=\"node7\" class=\"node\">\n<title>6</title>\n<polygon fill=\"none\" stroke=\"#000000\" points=\"348.5,-68 239.5,-68 239.5,0 348.5,0 348.5,-68\"/>\n<text text-anchor=\"middle\" x=\"294\" y=\"-52.8\" font-family=\"Times,serif\" font-size=\"14.00\" fill=\"#000000\">gini = 0.469</text>\n<text text-anchor=\"middle\" x=\"294\" y=\"-37.8\" font-family=\"Times,serif\" font-size=\"14.00\" fill=\"#000000\">samples = 72</text>\n<text text-anchor=\"middle\" x=\"294\" y=\"-22.8\" font-family=\"Times,serif\" font-size=\"14.00\" fill=\"#000000\">value = [27, 45]</text>\n<text text-anchor=\"middle\" x=\"294\" y=\"-7.8\" font-family=\"Times,serif\" font-size=\"14.00\" fill=\"#000000\">class = Survived</text>\n</g>\n<!-- 5&#45;&gt;6 -->\n<g id=\"edge6\" class=\"edge\">\n<title>5&#45;&gt;6</title>\n<path fill=\"none\" stroke=\"#000000\" d=\"M329.1477,-103.9815C324.7625,-95.2504 320.1267,-86.0202 315.711,-77.2281\"/>\n<polygon fill=\"#000000\" stroke=\"#000000\" points=\"318.8246,-75.6291 311.2087,-68.2637 312.5692,-78.7708 318.8246,-75.6291\"/>\n</g>\n<!-- 7 -->\n<g id=\"node8\" class=\"node\">\n<title>7</title>\n<polygon fill=\"none\" stroke=\"#000000\" points=\"465.5,-68 366.5,-68 366.5,0 465.5,0 465.5,-68\"/>\n<text text-anchor=\"middle\" x=\"416\" y=\"-52.8\" font-family=\"Times,serif\" font-size=\"14.00\" fill=\"#000000\">gini = 0.245</text>\n<text text-anchor=\"middle\" x=\"416\" y=\"-37.8\" font-family=\"Times,serif\" font-size=\"14.00\" fill=\"#000000\">samples = 21</text>\n<text text-anchor=\"middle\" x=\"416\" y=\"-22.8\" font-family=\"Times,serif\" font-size=\"14.00\" fill=\"#000000\">value = [18, 3]</text>\n<text text-anchor=\"middle\" x=\"416\" y=\"-7.8\" font-family=\"Times,serif\" font-size=\"14.00\" fill=\"#000000\">class = Perish</text>\n</g>\n<!-- 5&#45;&gt;7 -->\n<g id=\"edge7\" class=\"edge\">\n<title>5&#45;&gt;7</title>\n<path fill=\"none\" stroke=\"#000000\" d=\"M374.576,-103.9815C379.7986,-95.1585 385.3229,-85.8258 390.5763,-76.9506\"/>\n<polygon fill=\"#000000\" stroke=\"#000000\" points=\"393.6364,-78.652 395.7184,-68.2637 387.6126,-75.0863 393.6364,-78.652\"/>\n</g>\n<!-- 9 -->\n<g id=\"node10\" class=\"node\">\n<title>9</title>\n<polygon fill=\"none\" stroke=\"#000000\" points=\"649.5,-187 540.5,-187 540.5,-104 649.5,-104 649.5,-187\"/>\n<text text-anchor=\"middle\" x=\"595\" y=\"-171.8\" font-family=\"Times,serif\" font-size=\"14.00\" fill=\"#000000\">SibSp &lt;= 2.5</text>\n<text text-anchor=\"middle\" x=\"595\" y=\"-156.8\" font-family=\"Times,serif\" font-size=\"14.00\" fill=\"#000000\">gini = 0.495</text>\n<text text-anchor=\"middle\" x=\"595\" y=\"-141.8\" font-family=\"Times,serif\" font-size=\"14.00\" fill=\"#000000\">samples = 29</text>\n<text text-anchor=\"middle\" x=\"595\" y=\"-126.8\" font-family=\"Times,serif\" font-size=\"14.00\" fill=\"#000000\">value = [13, 16]</text>\n<text text-anchor=\"middle\" x=\"595\" y=\"-111.8\" font-family=\"Times,serif\" font-size=\"14.00\" fill=\"#000000\">class = Survived</text>\n</g>\n<!-- 8&#45;&gt;9 -->\n<g id=\"edge9\" class=\"edge\">\n<title>8&#45;&gt;9</title>\n<path fill=\"none\" stroke=\"#000000\" d=\"M595,-222.8796C595,-214.6838 595,-205.9891 595,-197.5013\"/>\n<polygon fill=\"#000000\" stroke=\"#000000\" points=\"598.5001,-197.298 595,-187.2981 591.5001,-197.2981 598.5001,-197.298\"/>\n</g>\n<!-- 12 -->\n<g id=\"node13\" class=\"node\">\n<title>12</title>\n<polygon fill=\"none\" stroke=\"#000000\" points=\"837.5,-187 724.5,-187 724.5,-104 837.5,-104 837.5,-187\"/>\n<text text-anchor=\"middle\" x=\"781\" y=\"-171.8\" font-family=\"Times,serif\" font-size=\"14.00\" fill=\"#000000\">Pclass &lt;= 1.5</text>\n<text text-anchor=\"middle\" x=\"781\" y=\"-156.8\" font-family=\"Times,serif\" font-size=\"14.00\" fill=\"#000000\">gini = 0.281</text>\n<text text-anchor=\"middle\" x=\"781\" y=\"-141.8\" font-family=\"Times,serif\" font-size=\"14.00\" fill=\"#000000\">samples = 379</text>\n<text text-anchor=\"middle\" x=\"781\" y=\"-126.8\" font-family=\"Times,serif\" font-size=\"14.00\" fill=\"#000000\">value = [315, 64]</text>\n<text text-anchor=\"middle\" x=\"781\" y=\"-111.8\" font-family=\"Times,serif\" font-size=\"14.00\" fill=\"#000000\">class = Perish</text>\n</g>\n<!-- 8&#45;&gt;12 -->\n<g id=\"edge12\" class=\"edge\">\n<title>8&#45;&gt;12</title>\n<path fill=\"none\" stroke=\"#000000\" d=\"M651.5637,-228.3114C671.8541,-215.3299 694.893,-200.59 715.8526,-187.1803\"/>\n<polygon fill=\"#000000\" stroke=\"#000000\" points=\"717.8476,-190.059 724.3849,-181.7215 714.0751,-184.1625 717.8476,-190.059\"/>\n</g>\n<!-- 10 -->\n<g id=\"node11\" class=\"node\">\n<title>10</title>\n<polygon fill=\"none\" stroke=\"#000000\" points=\"592.5,-68 483.5,-68 483.5,0 592.5,0 592.5,-68\"/>\n<text text-anchor=\"middle\" x=\"538\" y=\"-52.8\" font-family=\"Times,serif\" font-size=\"14.00\" fill=\"#000000\">gini = 0.111</text>\n<text text-anchor=\"middle\" x=\"538\" y=\"-37.8\" font-family=\"Times,serif\" font-size=\"14.00\" fill=\"#000000\">samples = 17</text>\n<text text-anchor=\"middle\" x=\"538\" y=\"-22.8\" font-family=\"Times,serif\" font-size=\"14.00\" fill=\"#000000\">value = [1, 16]</text>\n<text text-anchor=\"middle\" x=\"538\" y=\"-7.8\" font-family=\"Times,serif\" font-size=\"14.00\" fill=\"#000000\">class = Survived</text>\n</g>\n<!-- 9&#45;&gt;10 -->\n<g id=\"edge10\" class=\"edge\">\n<title>9&#45;&gt;10</title>\n<path fill=\"none\" stroke=\"#000000\" d=\"M573.7753,-103.9815C569.3119,-95.2504 564.5933,-86.0202 560.0987,-77.2281\"/>\n<polygon fill=\"#000000\" stroke=\"#000000\" points=\"563.1842,-75.5745 555.516,-68.2637 556.9514,-78.7608 563.1842,-75.5745\"/>\n</g>\n<!-- 11 -->\n<g id=\"node12\" class=\"node\">\n<title>11</title>\n<polygon fill=\"none\" stroke=\"#000000\" points=\"709.5,-68 610.5,-68 610.5,0 709.5,0 709.5,-68\"/>\n<text text-anchor=\"middle\" x=\"660\" y=\"-52.8\" font-family=\"Times,serif\" font-size=\"14.00\" fill=\"#000000\">gini = 0.0</text>\n<text text-anchor=\"middle\" x=\"660\" y=\"-37.8\" font-family=\"Times,serif\" font-size=\"14.00\" fill=\"#000000\">samples = 12</text>\n<text text-anchor=\"middle\" x=\"660\" y=\"-22.8\" font-family=\"Times,serif\" font-size=\"14.00\" fill=\"#000000\">value = [12, 0]</text>\n<text text-anchor=\"middle\" x=\"660\" y=\"-7.8\" font-family=\"Times,serif\" font-size=\"14.00\" fill=\"#000000\">class = Perish</text>\n</g>\n<!-- 9&#45;&gt;11 -->\n<g id=\"edge11\" class=\"edge\">\n<title>9&#45;&gt;11</title>\n<path fill=\"none\" stroke=\"#000000\" d=\"M619.2036,-103.9815C624.3471,-95.1585 629.7877,-85.8258 634.9616,-76.9506\"/>\n<polygon fill=\"#000000\" stroke=\"#000000\" points=\"638.013,-78.6656 640.0257,-68.2637 631.9656,-75.1402 638.013,-78.6656\"/>\n</g>\n<!-- 13 -->\n<g id=\"node14\" class=\"node\">\n<title>13</title>\n<polygon fill=\"none\" stroke=\"#000000\" points=\"834,-68 728,-68 728,0 834,0 834,-68\"/>\n<text text-anchor=\"middle\" x=\"781\" y=\"-52.8\" font-family=\"Times,serif\" font-size=\"14.00\" fill=\"#000000\">gini = 0.45</text>\n<text text-anchor=\"middle\" x=\"781\" y=\"-37.8\" font-family=\"Times,serif\" font-size=\"14.00\" fill=\"#000000\">samples = 85</text>\n<text text-anchor=\"middle\" x=\"781\" y=\"-22.8\" font-family=\"Times,serif\" font-size=\"14.00\" fill=\"#000000\">value = [56, 29]</text>\n<text text-anchor=\"middle\" x=\"781\" y=\"-7.8\" font-family=\"Times,serif\" font-size=\"14.00\" fill=\"#000000\">class = Perish</text>\n</g>\n<!-- 12&#45;&gt;13 -->\n<g id=\"edge13\" class=\"edge\">\n<title>12&#45;&gt;13</title>\n<path fill=\"none\" stroke=\"#000000\" d=\"M781,-103.9815C781,-95.618 781,-86.7965 781,-78.3409\"/>\n<polygon fill=\"#000000\" stroke=\"#000000\" points=\"784.5001,-78.2636 781,-68.2637 777.5001,-78.2637 784.5001,-78.2636\"/>\n</g>\n<!-- 14 -->\n<g id=\"node15\" class=\"node\">\n<title>14</title>\n<polygon fill=\"none\" stroke=\"#000000\" points=\"965.5,-68 852.5,-68 852.5,0 965.5,0 965.5,-68\"/>\n<text text-anchor=\"middle\" x=\"909\" y=\"-52.8\" font-family=\"Times,serif\" font-size=\"14.00\" fill=\"#000000\">gini = 0.21</text>\n<text text-anchor=\"middle\" x=\"909\" y=\"-37.8\" font-family=\"Times,serif\" font-size=\"14.00\" fill=\"#000000\">samples = 294</text>\n<text text-anchor=\"middle\" x=\"909\" y=\"-22.8\" font-family=\"Times,serif\" font-size=\"14.00\" fill=\"#000000\">value = [259, 35]</text>\n<text text-anchor=\"middle\" x=\"909\" y=\"-7.8\" font-family=\"Times,serif\" font-size=\"14.00\" fill=\"#000000\">class = Perish</text>\n</g>\n<!-- 12&#45;&gt;14 -->\n<g id=\"edge14\" class=\"edge\">\n<title>12&#45;&gt;14</title>\n<path fill=\"none\" stroke=\"#000000\" d=\"M828.6625,-103.9815C839.5297,-94.5151 851.0705,-84.462 861.9135,-75.0168\"/>\n<polygon fill=\"#000000\" stroke=\"#000000\" points=\"864.4245,-77.4712 869.6659,-68.2637 859.8266,-72.1929 864.4245,-77.4712\"/>\n</g>\n</g>\n</svg>\n",
      "text/plain": [
       "<graphviz.files.Source at 0x7fe9719cd1c0>"
      ]
     },
     "execution_count": 27,
     "metadata": {},
     "output_type": "execute_result"
    }
   ],
   "source": [
    "#트리시각화\n",
    "\n",
    "import graphviz \n",
    "from sklearn.tree import export_graphviz\n",
    "\n",
    "feature_name=['Pclass','Sex','Age','SibSp','Parch','Fare']\n",
    "tree = export_graphviz(tree,feature_names=feature_name,\n",
    "                       class_names = [\"Perish\",\"Survived\"])\n",
    "\n",
    "graphviz.Source(tree)"
   ]
  },
  {
   "cell_type": "markdown",
   "id": "bdf6b8e1",
   "metadata": {},
   "source": [
    "## 과적합과 가지치기\n",
    "### 60191107 마성현 \n",
    "- 의사결정 나무의 깊이별 정확도 비교와 최적의 의사결정나무 깊이 구하기 "
   ]
  },
  {
   "cell_type": "code",
   "execution_count": 33,
   "id": "36244b0c",
   "metadata": {},
   "outputs": [],
   "source": [
    "train_scores, test_scores = list(),list ()\n",
    "#Train_scroe와 test_score의 정확도를 저장할 장소 \n",
    "#Train_score는 훈련데이터에 특화될수록 증가 \n",
    "#Test_score는 테스트데이터에 일반화될수록 증가 "
   ]
  },
  {
   "cell_type": "code",
   "execution_count": 34,
   "id": "9dbc0986",
   "metadata": {},
   "outputs": [
    {
     "name": "stdout",
     "output_type": "stream",
     "text": [
      ">1, train: 0.699,test:0.737500\n",
      ">2, train: 0.699,test:0.737500\n",
      ">3, train: 0.752,test:0.737500\n",
      ">4, train: 0.767,test:0.737500\n",
      ">5, train: 0.804,test:0.737500\n",
      ">6, train: 0.849,test:0.737500\n",
      ">7, train: 0.886,test:0.737500\n",
      ">8, train: 0.916,test:0.737500\n",
      ">9, train: 0.944,test:0.737500\n",
      ">10, train: 0.970,test:0.737500\n",
      ">11, train: 0.984,test:0.737500\n",
      ">12, train: 0.993,test:0.737500\n",
      ">13, train: 0.996,test:0.737500\n",
      ">14, train: 0.998,test:0.737500\n",
      ">15, train: 1.000,test:0.737500\n",
      ">16, train: 1.000,test:0.737500\n",
      ">17, train: 1.000,test:0.737500\n",
      ">18, train: 1.000,test:0.737500\n",
      ">19, train: 1.000,test:0.737500\n"
     ]
    }
   ],
   "source": [
    "#의사결정 나무 모델의 depth 조절 (1에서 19까지)\n",
    "for i in range(1,20):\n",
    "    DT1 = DecisionTreeClassifier (max_depth =i)\n",
    "    #깊이를 증가시키면서 의사결정나무 모델 적합 \n",
    "    DT1.fit(X_train,y_train)\n",
    "    \n",
    "    #training dataset 정확도 평가 \n",
    "    train_att = DT1.predict(X_train)\n",
    "    train_acc=accuracy_score(y_train, train_att)\n",
    "    train_scores.append(train_acc)\n",
    "    \n",
    "    #test dataset 정확도 평가 \n",
    "    test_att = tree.predict(X_test)\n",
    "    test_acc = accuracy_score(y_test,test_att)\n",
    "    test_scores.append(test_acc)\n",
    "    \n",
    "    #train 정확도와 test 정확도를 depth 개수에 따른 정확도 확인\n",
    "    print('>%d, train: %.3f,test:%3f'%(i,train_acc,test_acc))\n",
    "    "
   ]
  },
  {
   "cell_type": "code",
   "execution_count": null,
   "id": "699eb921",
   "metadata": {},
   "outputs": [
    {
     "name": "stdout",
     "output_type": "stream",
     "text": [
      "Collecting package metadata (current_repodata.json): done\n",
      "Solving environment: failed with initial frozen solve. Retrying with flexible solve.\n",
      "Solving environment: failed with repodata from current_repodata.json, will retry with next repodata source.\n",
      "Collecting package metadata (repodata.json): done\n",
      "Solving environment: failed with initial frozen solve. Retrying with flexible solve.\n",
      "Solving environment: - \n",
      "Found conflicts! Looking for incompatible packages.\n",
      "This can take several minutes.  Press CTRL-C to abort.\n",
      "Examining conflict for pytz sip appdirs bleach html5lib prompt_toolkit qdarksty- "
     ]
    }
   ],
   "source": [
    "conda install python-graphviz"
   ]
  },
  {
   "cell_type": "code",
   "execution_count": null,
   "id": "a60dbda8",
   "metadata": {},
   "outputs": [],
   "source": []
  }
 ],
 "metadata": {
  "kernelspec": {
   "display_name": "Python 3 (ipykernel)",
   "language": "python",
   "name": "python3"
  },
  "language_info": {
   "codemirror_mode": {
    "name": "ipython",
    "version": 3
   },
   "file_extension": ".py",
   "mimetype": "text/x-python",
   "name": "python",
   "nbconvert_exporter": "python",
   "pygments_lexer": "ipython3",
   "version": "3.8.2"
  }
 },
 "nbformat": 4,
 "nbformat_minor": 5
}
